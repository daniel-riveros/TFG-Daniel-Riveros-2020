{
 "cells": [
  {
   "cell_type": "code",
   "execution_count": 1,
   "metadata": {},
   "outputs": [
    {
     "data": {
      "text/plain": [
       "1608048"
      ]
     },
     "execution_count": 1,
     "metadata": {},
     "output_type": "execute_result"
    }
   ],
   "source": [
    "# Convertir un modelo de tensorflow a tensorflow Lite para luego pasarlo a kmodel para la placa\n",
    "\n",
    "import tensorflow as tf\n",
    "\n",
    "# Nombre con el que tenemos guardado el modelo .h5 y con el que lo guardaremos como tflite (sin incluir las extensiones)\n",
    "nombre = 'BM_Categorical'\n",
    "\n",
    "# Cargamos un modelo previamente creado\n",
    "TFModel = tf.keras.models.load_model('modelos/' + nombre + '.h5')\n",
    "\n",
    "tflite_converter = tf.lite.TFLiteConverter.from_keras_model(TFModel)\n",
    "tflite_model = tflite_converter.convert()\n",
    "open(\"modelos/Lite/\"+ nombre +\".tflite\", \"wb\").write(tflite_model)"
   ]
  },
  {
   "cell_type": "code",
   "execution_count": null,
   "metadata": {},
   "outputs": [],
   "source": []
  },
  {
   "cell_type": "code",
   "execution_count": null,
   "metadata": {},
   "outputs": [],
   "source": []
  },
  {
   "cell_type": "code",
   "execution_count": null,
   "metadata": {},
   "outputs": [],
   "source": []
  }
 ],
 "metadata": {
  "kernelspec": {
   "display_name": "Python 3",
   "language": "python",
   "name": "python3"
  },
  "language_info": {
   "codemirror_mode": {
    "name": "ipython",
    "version": 3
   },
   "file_extension": ".py",
   "mimetype": "text/x-python",
   "name": "python",
   "nbconvert_exporter": "python",
   "pygments_lexer": "ipython3",
   "version": "3.7.6"
  }
 },
 "nbformat": 4,
 "nbformat_minor": 4
}
