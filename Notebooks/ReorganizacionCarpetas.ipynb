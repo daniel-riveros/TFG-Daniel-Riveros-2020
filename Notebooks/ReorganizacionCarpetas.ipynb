{
 "cells": [
  {
   "cell_type": "markdown",
   "metadata": {},
   "source": [
    "# Transformación de las imagenes del dataset original al formato necesario para su entrenamiento"
   ]
  },
  {
   "cell_type": "code",
   "execution_count": null,
   "metadata": {},
   "outputs": [],
   "source": [
    "## CODIGO OBTENIDO DE LA WEB : https://machinelearningmastery.com/how-to-develop-a-convolutional-neural-network-to-classify-photos-of-dogs-and-cats/"
   ]
  },
  {
   "cell_type": "code",
   "execution_count": 1,
   "metadata": {},
   "outputs": [],
   "source": [
    "\n",
    "# Para la lectura de las imagenes debemos tener cada una de las imagenes separadas en las carpetas dentro de su\n",
    "# correspondiente clase. Como nuestro dataset tiene el nombre de la clase como nombre del fichero vamos a separar\n",
    "# las imagenes usando este concepto.\n",
    "\n",
    "# Importamos las librerias necesarias para reorganización en carpetas.\n",
    "from os import makedirs\n",
    "from os import listdir\n",
    "from shutil import copyfile\n",
    "from random import seed\n",
    "from random import random\n",
    "\n",
    "\n",
    "\n",
    "# Primero creamos los directorios que nos van a hacer falta\n",
    "def CreaDirectorios():\n",
    "    dataset_raiz = 'new_dataset/'\n",
    "    subdirs = ['train/', 'val/']\n",
    "    for subdir in subdirs:\n",
    "        labeldirs = ['dogs/', 'cats/']\n",
    "        for labldir in labeldirs:\n",
    "            newdir = dataset_raiz + subdir + labldir\n",
    "            makedirs(newdir, exist_ok=True)\n",
    "            \n",
    "\n",
    "# Seleccionaremos unas imagenes aleatorias dentro del conjunto de entrenamiento para testear\n",
    "# Creamos una funcion que nos reparta las imagenes en su carpeta correspondiente\n",
    "# Le pasamos el porcentaje de imagenes que se van a usar de entrenamiento\n",
    "\n",
    "def ReparteImagenes(val_ratio):\n",
    "    dataset_raiz = 'new_dataset/'\n",
    "    # Número aleatorio entre 0.0 y 1.0\n",
    "    seed(1)\n",
    "    # Copiamos el dataset original al nuevo \n",
    "    carpeta_origen = 'dataset/train/'\n",
    "    for nombref in listdir(carpeta_origen):\n",
    "        src = carpeta_origen + '/' + nombref\n",
    "        \n",
    "        # Elegimos el destino dependiendo del factor aleatorio\n",
    "        destino = 'train/'\n",
    "        if random() < val_ratio:\n",
    "            destino = 'val/'\n",
    "            \n",
    "        # Incluimos en la carpeta que nos haga falta, dividimos según el nombre de la imagen\n",
    "        if nombref.startswith('cat'):\n",
    "            dst = dataset_raiz + destino + 'cats/'  + nombref\n",
    "            \n",
    "        elif nombref.startswith('dog'):\n",
    "            dst = dataset_raiz + destino + 'dogs/'  + nombref\n",
    "            \n",
    "        copyfile(src, dst)"
   ]
  },
  {
   "cell_type": "code",
   "execution_count": null,
   "metadata": {},
   "outputs": [],
   "source": [
    "# Ejecutamos la operación de distribución de las imagenes con un valor del 25% de las imagenes para validacion\n",
    "\n",
    "val_ratio = 25\n",
    "CreaDirectorios()\n",
    "ReparteImagenes(val_ratio/100)"
   ]
  },
  {
   "cell_type": "code",
   "execution_count": null,
   "metadata": {},
   "outputs": [],
   "source": []
  }
 ],
 "metadata": {
  "kernelspec": {
   "display_name": "Python 3",
   "language": "python",
   "name": "python3"
  },
  "language_info": {
   "codemirror_mode": {
    "name": "ipython",
    "version": 3
   },
   "file_extension": ".py",
   "mimetype": "text/x-python",
   "name": "python",
   "nbconvert_exporter": "python",
   "pygments_lexer": "ipython3",
   "version": "3.7.6"
  }
 },
 "nbformat": 4,
 "nbformat_minor": 4
}
